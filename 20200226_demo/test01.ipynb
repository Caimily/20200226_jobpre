{
 "cells": [
  {
   "cell_type": "code",
   "execution_count": 3,
   "metadata": {},
   "outputs": [],
   "source": [
    "import datetime"
   ]
  },
  {
   "cell_type": "code",
   "execution_count": 5,
   "metadata": {},
   "outputs": [
    {
     "name": "stdout",
     "output_type": "stream",
     "text": [
      "1997-07-05\n"
     ]
    }
   ],
   "source": [
    "print(datetime.datetime.strptime('1997-7-5','%Y-%m-%d').date())"
   ]
  },
  {
   "cell_type": "code",
   "execution_count": null,
   "metadata": {
    "collapsed": true
   },
   "outputs": [],
   "source": [
    "tal = '17364012580'"
   ]
  },
  {
   "cell_type": "code",
   "execution_count": 4,
   "metadata": {},
   "outputs": [
    {
     "data": {
      "text/plain": [
       "'17364012580'"
      ]
     },
     "execution_count": 4,
     "metadata": {},
     "output_type": "execute_result"
    }
   ],
   "source": [
    "tal"
   ]
  },
  {
   "cell_type": "code",
   "execution_count": 5,
   "metadata": {},
   "outputs": [
    {
     "data": {
      "text/plain": [
       "str"
      ]
     },
     "execution_count": 5,
     "metadata": {},
     "output_type": "execute_result"
    }
   ],
   "source": [
    "type(tal)"
   ]
  },
  {
   "cell_type": "code",
   "execution_count": 17,
   "metadata": {},
   "outputs": [
    {
     "name": "stdout",
     "output_type": "stream",
     "text": [
      " 红双喜兵 乓球拍\n",
      "18.9\n",
      "很喜欢，给五星好评\n"
     ]
    }
   ],
   "source": [
    "prodName =' 红双喜兵 乓球拍'\n",
    "print(prodName.rstrip())\n",
    "\n",
    "price = '单价：18.9 元/Kg'\n",
    "#取出价格并转换为浮点数\n",
    "print(float(price[3:price.index('元')].strip()))\n",
    "\n",
    "sentense = '&&&^-^很喜欢，给五星好评（^-^）'\n",
    "print(sentense.strip('&^-^（^-^）'))"
   ]
  },
  {
   "cell_type": "code",
   "execution_count": 21,
   "metadata": {},
   "outputs": [
    {
     "name": "stdout",
     "output_type": "stream",
     "text": [
      "236****7890\n"
     ]
    }
   ],
   "source": [
    "tel = '23612347890'\n",
    "#隐藏手机号中间四位\n",
    "print(tel.replace(tel[3:7],'****'))"
   ]
  },
  {
   "cell_type": "code",
   "execution_count": 24,
   "metadata": {},
   "outputs": [
    {
     "name": "stdout",
     "output_type": "stream",
     "text": [
      "尊敬的liu先森，您的花费约为5.56元，请及时充值，以免影响通话！\n",
      "ROC曲线下的AUC值为：0.57\n",
      "http://tianqi.2345.com/t/wea_history/js/201901/6008_201901.js\n",
      "http://tianqi.2345.com/t/wea_history/js/201902/6008_201902.js\n",
      "http://tianqi.2345.com/t/wea_history/js/201903/6008_201903.js\n",
      "http://tianqi.2345.com/t/wea_history/js/201904/6008_201904.js\n",
      "http://tianqi.2345.com/t/wea_history/js/201905/6008_201905.js\n"
     ]
    }
   ],
   "source": [
    "info = '尊敬的刘先生，您的花费约为6.78元，请及时充值，以免影响通话！'\n",
    "#转换为格式化风格\n",
    "print('尊敬的{}{}，您的花费约为{}元，请及时充值，以免影响通话！'.format('liu','先森',5.56))\n",
    "\n",
    "#保留两位有效数字的格式化\n",
    "print('ROC曲线下的AUC值为：{:.2f}'.format(0.5685655))\n",
    "\n",
    "#生成5个有规律的网页链接\n",
    "for month in [1,2,3,4,5]:\n",
    "    print('http://tianqi.2345.com/t/wea_history/js/20190{0}/6008_20190{0}.js'.format(month))"
   ]
  },
  {
   "cell_type": "code",
   "execution_count": 27,
   "metadata": {},
   "outputs": [
    {
     "name": "stdout",
     "output_type": "stream",
     "text": [
      "请输入一个整数157\n",
      "与7相关\n"
     ]
    }
   ],
   "source": [
    "#使用input函数输入一个整数，并判断时是否与7相关（可被7整除或者含7的整数）\n",
    "number = input(\"请输入一个整数\")\n",
    "if (int(number)%7 == 0)|(number.find('7')!=-1):\n",
    "    print('与7相关')\n",
    "else:\n",
    "    print('与7不相关')"
   ]
  },
  {
   "cell_type": "code",
   "execution_count": 29,
   "metadata": {},
   "outputs": [
    {
     "name": "stdout",
     "output_type": "stream",
     "text": [
      "请输入身份证号码421127199810251415\n",
      "19981025\n"
     ]
    }
   ],
   "source": [
    "# 请提取身份证号码的出生日期 \n",
    "# 18 421127 19990909 1250\n",
    "# 15 421127 990909 125\n",
    "ID = input('请输入身份证号码')\n",
    "if len(ID) == 18:\n",
    "    birth = ID[6:14]\n",
    "    print(birth)\n",
    "elif len(ID) == 15:\n",
    "    birth = ID[6:12]\n",
    "    print(birth)\n",
    "else:\n",
    "    print(\"请输入正确的身份证号码\")"
   ]
  },
  {
   "cell_type": "code",
   "execution_count": 33,
   "metadata": {},
   "outputs": [
    {
     "name": "stdout",
     "output_type": "stream",
     "text": [
      "请输入身份证号码421127188205184562\n",
      "女\n"
     ]
    }
   ],
   "source": [
    "# 根据输入的身份证号码判断男女 \n",
    "# 18 421127 19990909 1250\n",
    "# 15 421127 990909 125\n",
    "ID = input('请输入身份证号码')\n",
    "if len(ID) == 18:\n",
    "    if int(ID[-2])%2 == 0:\n",
    "        print('女')\n",
    "    else:\n",
    "        print('男')\n",
    "elif len(ID) == 15:\n",
    "    if int(ID[-1])%2 == 1:\n",
    "        print('男')\n",
    "    else:\n",
    "        print('女')\n",
    "else:\n",
    "    print(\"请输入正确的身份证号码\")"
   ]
  },
  {
   "cell_type": "code",
   "execution_count": null,
   "metadata": {
    "collapsed": true
   },
   "outputs": [],
   "source": []
  }
 ],
 "metadata": {
  "kernelspec": {
   "display_name": "Python 3",
   "language": "python",
   "name": "python3"
  },
  "language_info": {
   "codemirror_mode": {
    "name": "ipython",
    "version": 3
   },
   "file_extension": ".py",
   "mimetype": "text/x-python",
   "name": "python",
   "nbconvert_exporter": "python",
   "pygments_lexer": "ipython3",
   "version": "3.6.1"
  }
 },
 "nbformat": 4,
 "nbformat_minor": 2
}
